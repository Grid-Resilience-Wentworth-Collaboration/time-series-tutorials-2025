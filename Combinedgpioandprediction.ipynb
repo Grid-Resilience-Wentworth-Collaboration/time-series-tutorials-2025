{
 "cells": [
  {
   "cell_type": "code",
   "execution_count": 1,
   "id": "2dfc7968-7ba0-49a0-aaa3-8defb44d3264",
   "metadata": {},
   "outputs": [],
   "source": [
    "import joblib\n",
    "import pandas as pd\n",
    "import matplotlib.pyplot as plt\n",
    "# Load the trained model from the saved file\n",
    "reg = joblib.load(\"reg_model.pkl\")\n",
    "df = pd.read_csv('data/4020177.csv')"
   ]
  },
  {
   "cell_type": "code",
   "execution_count": 2,
   "id": "4687551a-98af-42da-81da-2529d972511f",
   "metadata": {},
   "outputs": [],
   "source": [
    "core_weather = df[[\"PRCP\",\"TMAX\",\"TMIN\"]].copy()\n",
    "core_weather = core_weather.fillna(0)"
   ]
  },
  {
   "cell_type": "code",
   "execution_count": 3,
   "id": "954dcc78-041e-4a94-af86-f4d70c6e9755",
   "metadata": {},
   "outputs": [],
   "source": [
    "core_weather.columns = [\"Rain\",\"Temp_max\",\"Temp_min\"]"
   ]
  },
  {
   "cell_type": "code",
   "execution_count": 4,
   "id": "604646db-ebb8-4ac5-8c55-c4dc7332aad9",
   "metadata": {},
   "outputs": [],
   "source": [
    "predictors = [\"Rain\",\"Temp_max\",\"Temp_min\"]"
   ]
  },
  {
   "cell_type": "code",
   "execution_count": 29,
   "id": "b54a1f98-22d0-4868-adfa-a5c50287e599",
   "metadata": {},
   "outputs": [
    {
     "name": "stdout",
     "output_type": "stream",
     "text": [
      "RangeIndex(start=10000, stop=10005, step=1)\n",
      "RangeIndex(start=10357, stop=10362, step=1)\n",
      "362\n"
     ]
    }
   ],
   "source": [
    "test = core_weather.iloc[10000:]\n",
    "predictions = reg.predict(test[predictors])\n",
    "print(test.index[:5])\n",
    "print(test.index[-5:])\n",
    "print(len(test))"
   ]
  },
  {
   "cell_type": "code",
   "execution_count": 30,
   "id": "b69feebe-5ddf-480e-bce2-e7f666fdbd6f",
   "metadata": {},
   "outputs": [
    {
     "ename": "NameError",
     "evalue": "name 'prediction' is not defined",
     "output_type": "error",
     "traceback": [
      "\u001b[1;31m---------------------------------------------------------------------------\u001b[0m",
      "\u001b[1;31mNameError\u001b[0m                                 Traceback (most recent call last)",
      "Cell \u001b[1;32mIn[30], line 1\u001b[0m\n\u001b[1;32m----> 1\u001b[0m combined \u001b[38;5;241m=\u001b[39m pd\u001b[38;5;241m.\u001b[39mconcat([test, pd\u001b[38;5;241m.\u001b[39mSeries(\u001b[43mprediction\u001b[49m, index\u001b[38;5;241m=\u001b[39mtest\u001b[38;5;241m.\u001b[39mindex)], axis\u001b[38;5;241m=\u001b[39m\u001b[38;5;241m1\u001b[39m)\n\u001b[0;32m      2\u001b[0m combined\u001b[38;5;241m.\u001b[39mcolumns \u001b[38;5;241m=\u001b[39m [\u001b[38;5;124m\"\u001b[39m\u001b[38;5;124mactual\u001b[39m\u001b[38;5;124m\"\u001b[39m,\u001b[38;5;124m\"\u001b[39m\u001b[38;5;124mprediction\u001b[39m\u001b[38;5;124m\"\u001b[39m]\n",
      "\u001b[1;31mNameError\u001b[0m: name 'prediction' is not defined"
     ]
    }
   ],
   "source": []
  },
  {
   "cell_type": "code",
   "execution_count": null,
   "id": "c8ff8daf-93a2-462c-b14e-a99f6e8d541d",
   "metadata": {},
   "outputs": [],
   "source": []
  }
 ],
 "metadata": {
  "kernelspec": {
   "display_name": "Python 3 (ipykernel)",
   "language": "python",
   "name": "python3"
  },
  "language_info": {
   "codemirror_mode": {
    "name": "ipython",
    "version": 3
   },
   "file_extension": ".py",
   "mimetype": "text/x-python",
   "name": "python",
   "nbconvert_exporter": "python",
   "pygments_lexer": "ipython3",
   "version": "3.13.3"
  }
 },
 "nbformat": 4,
 "nbformat_minor": 5
}
