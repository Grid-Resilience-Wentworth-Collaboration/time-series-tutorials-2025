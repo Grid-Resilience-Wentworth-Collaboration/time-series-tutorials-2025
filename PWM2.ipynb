{
 "cells": [
  {
   "cell_type": "code",
   "execution_count": 5,
   "id": "dbe44fdd-2456-4c23-b70b-364db7541057",
   "metadata": {},
   "outputs": [
    {
     "name": "stdin",
     "output_type": "stream",
     "text": [
      "Enter fan speed as duty cycle (0-100) or 'q' to quit:  10\n"
     ]
    },
    {
     "name": "stdout",
     "output_type": "stream",
     "text": [
      "Fan speed set to 10.0%\n"
     ]
    },
    {
     "name": "stdin",
     "output_type": "stream",
     "text": [
      "Enter fan speed as duty cycle (0-100) or 'q' to quit:  100\n"
     ]
    },
    {
     "name": "stdout",
     "output_type": "stream",
     "text": [
      "Fan speed set to 100.0%\n"
     ]
    },
    {
     "name": "stdin",
     "output_type": "stream",
     "text": [
      "Enter fan speed as duty cycle (0-100) or 'q' to quit:  10\n"
     ]
    },
    {
     "name": "stdout",
     "output_type": "stream",
     "text": [
      "Fan speed set to 10.0%\n"
     ]
    },
    {
     "name": "stdin",
     "output_type": "stream",
     "text": [
      "Enter fan speed as duty cycle (0-100) or 'q' to quit:  100\n"
     ]
    },
    {
     "name": "stdout",
     "output_type": "stream",
     "text": [
      "Fan speed set to 100.0%\n"
     ]
    },
    {
     "name": "stdin",
     "output_type": "stream",
     "text": [
      "Enter fan speed as duty cycle (0-100) or 'q' to quit:  50\n"
     ]
    },
    {
     "name": "stdout",
     "output_type": "stream",
     "text": [
      "Fan speed set to 50.0%\n"
     ]
    },
    {
     "name": "stdin",
     "output_type": "stream",
     "text": [
      "Enter fan speed as duty cycle (0-100) or 'q' to quit:  6\n"
     ]
    },
    {
     "name": "stdout",
     "output_type": "stream",
     "text": [
      "Fan speed set to 6.0%\n"
     ]
    },
    {
     "name": "stdin",
     "output_type": "stream",
     "text": [
      "Enter fan speed as duty cycle (0-100) or 'q' to quit:  50\n"
     ]
    },
    {
     "name": "stdout",
     "output_type": "stream",
     "text": [
      "Fan speed set to 50.0%\n"
     ]
    },
    {
     "name": "stdin",
     "output_type": "stream",
     "text": [
      "Enter fan speed as duty cycle (0-100) or 'q' to quit:  100\n"
     ]
    },
    {
     "name": "stdout",
     "output_type": "stream",
     "text": [
      "Fan speed set to 100.0%\n"
     ]
    },
    {
     "name": "stdin",
     "output_type": "stream",
     "text": [
      "Enter fan speed as duty cycle (0-100) or 'q' to quit:  q\n"
     ]
    },
    {
     "name": "stdout",
     "output_type": "stream",
     "text": [
      "GPIO cleaned up. Program exited.\n"
     ]
    }
   ],
   "source": [
    "import RPi.GPIO as GPIO\n",
    "import time\n",
    "\n",
    "PWM_PIN = 13\n",
    "PWM_FREQUENCY = 25000  # 25kHz is standard for 4-wire PC fans\n",
    "\n",
    "GPIO.setmode(GPIO.BCM)\n",
    "GPIO.setup(PWM_PIN, GPIO.OUT)\n",
    "\n",
    "# Create PWM instance\n",
    "fan_pwm = GPIO.PWM(PWM_PIN, PWM_FREQUENCY)\n",
    "fan_pwm.start(0)  # Start with fan off\n",
    "\n",
    "try:\n",
    "    while True:\n",
    "        user_input = input(\"Enter fan speed as duty cycle (0-100) or 'q' to quit: \")\n",
    "        if user_input.lower() == 'q':\n",
    "            break\n",
    "        try:\n",
    "            duty_cycle = float(user_input)\n",
    "            if 0 <= duty_cycle <= 100:\n",
    "                fan_pwm.ChangeDutyCycle(duty_cycle)\n",
    "                print(f\"Fan speed set to {duty_cycle}%\")\n",
    "            else:\n",
    "                print(\"Please enter a value between 0 and 100.\")\n",
    "        except ValueError:\n",
    "            print(\"Invalid input. Please enter a number or 'q' to quit.\")\n",
    "except KeyboardInterrupt:\n",
    "    pass\n",
    "finally:\n",
    "    fan_pwm.stop()\n",
    "    GPIO.cleanup()\n",
    "    print(\"GPIO cleaned up. Program exited.\")"
   ]
  },
  {
   "cell_type": "code",
   "execution_count": null,
   "id": "dc6b2a70-0812-47db-ac67-46df199e7b21",
   "metadata": {},
   "outputs": [],
   "source": []
  },
  {
   "cell_type": "code",
   "execution_count": null,
   "id": "64db09ea-5fe6-46cf-a4ec-ed0c16ed4772",
   "metadata": {},
   "outputs": [],
   "source": []
  }
 ],
 "metadata": {
  "kernelspec": {
   "display_name": "Python 3 (ipykernel)",
   "language": "python",
   "name": "python3"
  },
  "language_info": {
   "codemirror_mode": {
    "name": "ipython",
    "version": 3
   },
   "file_extension": ".py",
   "mimetype": "text/x-python",
   "name": "python",
   "nbconvert_exporter": "python",
   "pygments_lexer": "ipython3",
   "version": "3.11.2"
  }
 },
 "nbformat": 4,
 "nbformat_minor": 5
}
