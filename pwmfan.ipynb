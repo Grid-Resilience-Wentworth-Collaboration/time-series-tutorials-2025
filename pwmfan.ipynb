{
 "cells": [
  {
   "cell_type": "code",
   "execution_count": null,
   "id": "15949338-2f7c-42f7-bcf7-c4b55b996a26",
   "metadata": {},
   "outputs": [],
   "source": [
    "import RPi.GPIO as GPIO\n",
    "import time\n",
    "\n",
    "FAN_PIN = 23  # BCM GPIO 27 (Pin 13)\n",
    "\n",
    "# Setup\n",
    "GPIO.setmode(GPIO.BCM)\n",
    "GPIO.setup(FAN_PIN, GPIO.OUT)\n",
    "\n",
    "# Create PWM instance with 25kHz frequency (typical for fans)\n",
    "pwm = GPIO.PWM(FAN_PIN, 25000)\n",
    "pwm.start(0)  # Start with fan off (0% duty cycle)\n",
    "\n",
    "try:\n",
    "    while True:\n",
    "        speed = int(input(\"Enter fan speed (0-100): \"))\n",
    "        if 0 <= speed <= 100:\n",
    "            pwm.ChangeDutyCycle(speed)\n",
    "        else:\n",
    "            print(\"Please enter a value between 0 and 100.\")\n",
    "except KeyboardInterrupt:\n",
    "    pass\n",
    "finally:\n",
    "    pwm.stop()\n",
    "    GPIO.cleanup()\n"
   ]
  },
  {
   "cell_type": "code",
   "execution_count": null,
   "id": "eecef1fe-70ea-4589-9b1a-718cb713f9f2",
   "metadata": {},
   "outputs": [],
   "source": []
  }
 ],
 "metadata": {
  "kernelspec": {
   "display_name": "Python 3 (ipykernel)",
   "language": "python",
   "name": "python3"
  },
  "language_info": {
   "codemirror_mode": {
    "name": "ipython",
    "version": 3
   },
   "file_extension": ".py",
   "mimetype": "text/x-python",
   "name": "python",
   "nbconvert_exporter": "python",
   "pygments_lexer": "ipython3",
   "version": "3.11.2"
  }
 },
 "nbformat": 4,
 "nbformat_minor": 5
}
