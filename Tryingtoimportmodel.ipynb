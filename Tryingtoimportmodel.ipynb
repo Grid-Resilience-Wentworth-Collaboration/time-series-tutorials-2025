{
 "cells": [
  {
   "cell_type": "code",
   "execution_count": 1,
   "id": "23c54fe1-92c3-4d17-bf47-74b401c21639",
   "metadata": {},
   "outputs": [],
   "source": [
    "import joblib\n",
    "import pandas as pd\n",
    "import matplotlib.pyplot as plt\n",
    "# Load the trained model from the saved file\n",
    "reg = joblib.load(\"reg_model.pkl\")\n",
    "df = pd.read_csv('data/fake_dataset.csv')"
   ]
  },
  {
   "cell_type": "code",
   "execution_count": 2,
   "id": "e4f5cc4d-d722-4675-9788-5aea370b9b34",
   "metadata": {},
   "outputs": [
    {
     "data": {
      "text/html": [
       "<div>\n",
       "<style scoped>\n",
       "    .dataframe tbody tr th:only-of-type {\n",
       "        vertical-align: middle;\n",
       "    }\n",
       "\n",
       "    .dataframe tbody tr th {\n",
       "        vertical-align: top;\n",
       "    }\n",
       "\n",
       "    .dataframe thead th {\n",
       "        text-align: right;\n",
       "    }\n",
       "</style>\n",
       "<table border=\"1\" class=\"dataframe\">\n",
       "  <thead>\n",
       "    <tr style=\"text-align: right;\">\n",
       "      <th></th>\n",
       "      <th>Rain</th>\n",
       "      <th>Temp.max</th>\n",
       "      <th>Temp.min</th>\n",
       "      <th>Label</th>\n",
       "    </tr>\n",
       "  </thead>\n",
       "  <tbody>\n",
       "    <tr>\n",
       "      <th>0</th>\n",
       "      <td>0.870598</td>\n",
       "      <td>1.305623</td>\n",
       "      <td>-0.427743</td>\n",
       "      <td>0</td>\n",
       "    </tr>\n",
       "    <tr>\n",
       "      <th>1</th>\n",
       "      <td>0.330761</td>\n",
       "      <td>0.983970</td>\n",
       "      <td>-0.579373</td>\n",
       "      <td>1</td>\n",
       "    </tr>\n",
       "    <tr>\n",
       "      <th>2</th>\n",
       "      <td>-1.347897</td>\n",
       "      <td>-1.251386</td>\n",
       "      <td>0.925968</td>\n",
       "      <td>2</td>\n",
       "    </tr>\n",
       "    <tr>\n",
       "      <th>3</th>\n",
       "      <td>1.547872</td>\n",
       "      <td>-0.179754</td>\n",
       "      <td>0.005510</td>\n",
       "      <td>3</td>\n",
       "    </tr>\n",
       "    <tr>\n",
       "      <th>4</th>\n",
       "      <td>-0.616637</td>\n",
       "      <td>-0.743406</td>\n",
       "      <td>-0.634491</td>\n",
       "      <td>4</td>\n",
       "    </tr>\n",
       "    <tr>\n",
       "      <th>...</th>\n",
       "      <td>...</td>\n",
       "      <td>...</td>\n",
       "      <td>...</td>\n",
       "      <td>...</td>\n",
       "    </tr>\n",
       "    <tr>\n",
       "      <th>995</th>\n",
       "      <td>-1.080778</td>\n",
       "      <td>0.417388</td>\n",
       "      <td>-0.667584</td>\n",
       "      <td>995</td>\n",
       "    </tr>\n",
       "    <tr>\n",
       "      <th>996</th>\n",
       "      <td>0.875527</td>\n",
       "      <td>1.243494</td>\n",
       "      <td>-1.066585</td>\n",
       "      <td>996</td>\n",
       "    </tr>\n",
       "    <tr>\n",
       "      <th>997</th>\n",
       "      <td>-2.226282</td>\n",
       "      <td>0.110584</td>\n",
       "      <td>-0.639156</td>\n",
       "      <td>997</td>\n",
       "    </tr>\n",
       "    <tr>\n",
       "      <th>998</th>\n",
       "      <td>-1.946111</td>\n",
       "      <td>-0.327084</td>\n",
       "      <td>-0.761968</td>\n",
       "      <td>998</td>\n",
       "    </tr>\n",
       "    <tr>\n",
       "      <th>999</th>\n",
       "      <td>-1.309595</td>\n",
       "      <td>1.352896</td>\n",
       "      <td>-0.422106</td>\n",
       "      <td>999</td>\n",
       "    </tr>\n",
       "  </tbody>\n",
       "</table>\n",
       "<p>1000 rows × 4 columns</p>\n",
       "</div>"
      ],
      "text/plain": [
       "         Rain  Temp.max  Temp.min  Label\n",
       "0    0.870598  1.305623 -0.427743      0\n",
       "1    0.330761  0.983970 -0.579373      1\n",
       "2   -1.347897 -1.251386  0.925968      2\n",
       "3    1.547872 -0.179754  0.005510      3\n",
       "4   -0.616637 -0.743406 -0.634491      4\n",
       "..        ...       ...       ...    ...\n",
       "995 -1.080778  0.417388 -0.667584    995\n",
       "996  0.875527  1.243494 -1.066585    996\n",
       "997 -2.226282  0.110584 -0.639156    997\n",
       "998 -1.946111 -0.327084 -0.761968    998\n",
       "999 -1.309595  1.352896 -0.422106    999\n",
       "\n",
       "[1000 rows x 4 columns]"
      ]
     },
     "execution_count": 2,
     "metadata": {},
     "output_type": "execute_result"
    }
   ],
   "source": [
    "df"
   ]
  },
  {
   "cell_type": "code",
   "execution_count": 3,
   "id": "45cddd7f-1779-4c33-81bc-2f033cb25404",
   "metadata": {},
   "outputs": [],
   "source": [
    "core_weather = df[[\"Rain\",\"Temp.max\",\"Temp.min\"]].copy()"
   ]
  },
  {
   "cell_type": "code",
   "execution_count": 4,
   "id": "4732d539-ac6d-4d72-8348-5098f9df2db7",
   "metadata": {},
   "outputs": [],
   "source": [
    "core_weather.columns = [\"Rain\",\"Temp_max\",\"Temp_min\"]"
   ]
  },
  {
   "cell_type": "code",
   "execution_count": 5,
   "id": "c56503e5-782c-4eb9-9f7f-32c9b812d8e2",
   "metadata": {},
   "outputs": [],
   "source": [
    "predictors = [\"Rain\",\"Temp_max\",\"Temp_min\"]"
   ]
  },
  {
   "cell_type": "code",
   "execution_count": 6,
   "id": "dd00b86f-016d-4ade-952e-c32ff921da56",
   "metadata": {},
   "outputs": [],
   "source": [
    "test = core_weather.loc[900:]"
   ]
  },
  {
   "cell_type": "code",
   "execution_count": 7,
   "id": "e38ff966-cefd-427c-a5f4-091250269f75",
   "metadata": {},
   "outputs": [],
   "source": [
    "predictions = reg.predict(test[predictors])"
   ]
  },
  {
   "cell_type": "code",
   "execution_count": 8,
   "id": "d4a9c917-22d6-4ad0-87eb-442383f5481c",
   "metadata": {},
   "outputs": [
    {
     "data": {
      "text/plain": [
       "array([12.11080036,  6.64581108,  9.50259644,  9.09829998,  9.35039704,\n",
       "        8.74826404,  9.27214573,  9.10430783, 12.6489584 ,  5.48644606,\n",
       "        9.55942773, 12.40499512,  7.32624725,  7.82453216,  6.746072  ,\n",
       "       10.59155505,  6.04983284,  9.23324997, 12.699238  , 11.68119966,\n",
       "        9.29691152,  6.54571989, 12.58305491,  9.86959813, 11.36278489,\n",
       "        6.20782417, 12.49696326,  8.26976384, 11.25633645,  9.30113944,\n",
       "       13.11135688,  5.89951431, 15.65045766, 10.47306148,  9.50912904,\n",
       "       12.74774757, 12.30989268,  9.20856768, 13.49437434, 10.99818413,\n",
       "       17.51388111, 14.39975183, 10.13952152,  8.33966476, 14.72208966,\n",
       "        9.43120566, 10.26777421, 11.46518305, 10.73640173,  5.55503807,\n",
       "       14.00172303,  9.2955846 ,  9.91560388,  8.47483398, 11.03703758,\n",
       "        9.55997431, 11.13600209, 14.21340415, 10.68604739,  9.99009369,\n",
       "       11.10988269,  7.88332417,  6.82322169, 13.30581313,  8.5567467 ,\n",
       "        9.34525442, 10.51939512, 11.8447672 , 11.30585868,  8.44852459,\n",
       "        9.03106779, 14.00182169,  8.34196145, 10.39224514,  5.17553283,\n",
       "       11.70810962, 12.15539373, 14.06097822,  9.75432598,  9.16149342,\n",
       "       11.394951  , 11.69768694, 12.16404035, 11.70136966,  7.91690457,\n",
       "        9.71378262, 10.35263136,  9.51075502, 14.72050511,  9.62125497,\n",
       "       10.96384135,  5.37359607, 10.90475174,  9.19640465,  7.02422591,\n",
       "       12.73989191,  8.97698883, 14.99810731, 14.08210527, 13.90222629])"
      ]
     },
     "execution_count": 8,
     "metadata": {},
     "output_type": "execute_result"
    }
   ],
   "source": [
    "predictions"
   ]
  },
  {
   "cell_type": "code",
   "execution_count": 9,
   "id": "9292b812-a38d-416f-99f5-ccc03016cd92",
   "metadata": {},
   "outputs": [
    {
     "data": {
      "image/png": "[encoded data removed]",
      "text/plain": [
       "<Figure size 640x480 with 1 Axes>"
      ]
     },
     "metadata": {},
     "output_type": "display_data"
    }
   ],
   "source": [
    "plt.plot(core_weather.index, core_weather[\"Temp_max\"], label=\"Actual\", color=\"blue\")\n",
    "plt.plot(predictions, label=\"Predicted\", color=\"orange\")\n",
    "plt.title(\"Actual vs Predicted on Test Set\")\n",
    "plt.xlabel(\"Index\")\n",
    "plt.ylabel(\"Target\")\n",
    "plt.legend()\n",
    "plt.show()"
   ]
  },
  {
   "cell_type": "code",
   "execution_count": null,
   "id": "4614f0c8-bfa0-4112-a534-2d111b9b87fd",
   "metadata": {},
   "outputs": [],
   "source": []
  }
 ],
 "metadata": {
  "kernelspec": {
   "display_name": "Python 3 (ipykernel)",
   "language": "python",
   "name": "python3"
  },
  "language_info": {
   "codemirror_mode": {
    "name": "ipython",
    "version": 3
   },
   "file_extension": ".py",
   "mimetype": "text/x-python",
   "name": "python",
   "nbconvert_exporter": "python",
   "pygments_lexer": "ipython3",
   "version": "3.13.3"
  }
 },
 "nbformat": 4,
 "nbformat_minor": 5
}
