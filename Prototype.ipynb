{
 "cells": [
  {
   "cell_type": "code",
   "execution_count": null,
   "id": "7421fad4-4a0f-4203-9912-02a55ff99a44",
   "metadata": {},
   "outputs": [
    {
     "name": "stdout",
     "output_type": "stream",
     "text": [
      "Temperature: 32.01C\n",
      "Temperature: 32.32C\n",
      "Temperature: 32.43C\n",
      "Temperature: 32.49C\n",
      "Temperature: 32.02C\n",
      "Temperature: 31.80C\n",
      "Temperature: 31.74C\n",
      "Temperature: 31.51C\n",
      "Temperature: 31.55C\n",
      "Temperature: 31.48C\n",
      "Temperature: 31.34C\n",
      "Temperature: 31.54C\n",
      "Temperature: 31.32C\n",
      "Temperature: 31.52C\n",
      "Temperature: 31.70C\n",
      "Temperature: 31.74C\n"
     ]
    }
   ],
   "source": [
    "import time\n",
    "import smbus2\n",
    "import bme280\n",
    "\n",
    "BME280_I2C_ADDR = 0x76\n",
    "I2C_BUS = 1\n",
    "\n",
    "bus = smbus2.SMBus(I2C_BUS)\n",
    "\n",
    "calibration_params = bme280.load_calibration_params(bus, BME280_I2C_ADDR)\n",
    "\n",
    "def read_sensor_data():\n",
    "        data = bme280.sample(bus,BME280_I2C_ADDR, calibration_params)\n",
    "\n",
    "        temperature = data.temperature\n",
    "        \n",
    "\n",
    "        return temperature\n",
    "\n",
    "if __name__ == \"__main__\":\n",
    "        while True:\n",
    "            temp = read_sensor_data()\n",
    "            print(f\"Temperature: {temp:.2f}C\")\n",
    "            time.sleep(30) # read data every minute"
   ]
  }
 ],
 "metadata": {
  "kernelspec": {
   "display_name": "Python 3 (ipykernel)",
   "language": "python",
   "name": "python3"
  },
  "language_info": {
   "codemirror_mode": {
    "name": "ipython",
    "version": 3
   },
   "file_extension": ".py",
   "mimetype": "text/x-python",
   "name": "python",
   "nbconvert_exporter": "python",
   "pygments_lexer": "ipython3",
   "version": "3.11.2"
  }
 },
 "nbformat": 4,
 "nbformat_minor": 5
}
